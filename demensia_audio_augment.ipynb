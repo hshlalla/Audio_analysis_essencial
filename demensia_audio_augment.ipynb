{
 "cells": [
  {
   "cell_type": "markdown",
   "id": "88980858",
   "metadata": {},
   "source": [
    "# torchAudio\n",
    "pytorch를 이용해서 audio를 증강시킬수 있다. tensorflow도 증강기법을 소개하고 있지만 tensorflow에는 오디오를 스펙트로그램으로 출력한뒤 이미지에 증강을 하는 방식이고 torchaudio는 오디오 자체에 증강을 하는 방법을 소개하고 있다. 이 방법을 이용해서 오디오를 증강해보자"
   ]
  },
  {
   "cell_type": "code",
   "execution_count": 1,
   "id": "b86314ca",
   "metadata": {},
   "outputs": [
    {
     "name": "stdout",
     "output_type": "stream",
     "text": [
      "1.10.2+cpu\n",
      "0.10.2+cpu\n"
     ]
    }
   ],
   "source": [
    "import torch\n",
    "import torchaudio\n",
    "import torchaudio.functional as F\n",
    "\n",
    "print(torch.__version__) #버전확인\n",
    "print(torchaudio.__version__)"
   ]
  },
  {
   "cell_type": "code",
   "execution_count": 2,
   "id": "17d4b4eb",
   "metadata": {},
   "outputs": [],
   "source": [
    "import math\n",
    "\n",
    "from IPython.display import Audio\n",
    "import matplotlib.pyplot as plt\n",
    "\n",
    "# from torchaudio.utils import download_asset #샘플을 제공하지만 기존에 있는 소스를 사용\n",
    "\n",
    "SAMPLE_WAV = \"D:/preprocessing_audio/최종본/orginal/NIA/1/AD/0b233392-7574-4b16-bb25-45f5e5dcb8dd_0_R.wav\""
   ]
  },
  {
   "cell_type": "markdown",
   "id": "1aa405d6",
   "metadata": {},
   "source": [
    "# Applying effects and filtering\n",
    "torchaudio.sox_effects()를 사용하면 reverb등의 효과와 노이즈 필터, 혹은 노이즈 추가등의 효과를 적용할수 있다\n",
    "- 오디오 파일에 직접 적용을 하는방식\n",
    "- 오디오 tensor에 적용하는 2가지 방식이 있다."
   ]
  },
  {
   "cell_type": "code",
   "execution_count": 3,
   "id": "c934c75b",
   "metadata": {},
   "outputs": [
    {
     "ename": "RuntimeError",
     "evalue": "torchaudio.sox_effects.sox_effects.apply_effects_tensor requires sox",
     "output_type": "error",
     "traceback": [
      "\u001b[1;31m---------------------------------------------------------------------------\u001b[0m",
      "\u001b[1;31mRuntimeError\u001b[0m                              Traceback (most recent call last)",
      "\u001b[1;32m<ipython-input-3-32212102dbe9>\u001b[0m in \u001b[0;36m<module>\u001b[1;34m\u001b[0m\n\u001b[0;32m     13\u001b[0m \u001b[1;33m\u001b[0m\u001b[0m\n\u001b[0;32m     14\u001b[0m \u001b[1;31m# Apply effects\u001b[0m\u001b[1;33m\u001b[0m\u001b[1;33m\u001b[0m\u001b[1;33m\u001b[0m\u001b[0m\n\u001b[1;32m---> 15\u001b[1;33m \u001b[0mwaveform2\u001b[0m\u001b[1;33m,\u001b[0m \u001b[0msample_rate2\u001b[0m \u001b[1;33m=\u001b[0m \u001b[0mtorchaudio\u001b[0m\u001b[1;33m.\u001b[0m\u001b[0msox_effects\u001b[0m\u001b[1;33m.\u001b[0m\u001b[0mapply_effects_tensor\u001b[0m\u001b[1;33m(\u001b[0m\u001b[0mwaveform1\u001b[0m\u001b[1;33m,\u001b[0m \u001b[0msample_rate1\u001b[0m\u001b[1;33m,\u001b[0m\u001b[0meffects\u001b[0m\u001b[1;33m)\u001b[0m\u001b[1;33m\u001b[0m\u001b[1;33m\u001b[0m\u001b[0m\n\u001b[0m\u001b[0;32m     16\u001b[0m \u001b[1;33m\u001b[0m\u001b[0m\n\u001b[0;32m     17\u001b[0m \u001b[1;33m\u001b[0m\u001b[0m\n",
      "\u001b[1;32m~\\anaconda3\\envs\\py36_tensor22\\lib\\site-packages\\torchaudio\\_internal\\module_utils.py\u001b[0m in \u001b[0;36mwrapped\u001b[1;34m(*args, **kwargs)\u001b[0m\n\u001b[0;32m    121\u001b[0m             \u001b[1;33m@\u001b[0m\u001b[0mwraps\u001b[0m\u001b[1;33m(\u001b[0m\u001b[0mfunc\u001b[0m\u001b[1;33m)\u001b[0m\u001b[1;33m\u001b[0m\u001b[1;33m\u001b[0m\u001b[0m\n\u001b[0;32m    122\u001b[0m             \u001b[1;32mdef\u001b[0m \u001b[0mwrapped\u001b[0m\u001b[1;33m(\u001b[0m\u001b[1;33m*\u001b[0m\u001b[0margs\u001b[0m\u001b[1;33m,\u001b[0m \u001b[1;33m**\u001b[0m\u001b[0mkwargs\u001b[0m\u001b[1;33m)\u001b[0m\u001b[1;33m:\u001b[0m\u001b[1;33m\u001b[0m\u001b[1;33m\u001b[0m\u001b[0m\n\u001b[1;32m--> 123\u001b[1;33m                 \u001b[1;32mraise\u001b[0m \u001b[0mRuntimeError\u001b[0m\u001b[1;33m(\u001b[0m\u001b[1;34mf'{func.__module__}.{func.__name__} requires sox'\u001b[0m\u001b[1;33m)\u001b[0m\u001b[1;33m\u001b[0m\u001b[1;33m\u001b[0m\u001b[0m\n\u001b[0m\u001b[0;32m    124\u001b[0m             \u001b[1;32mreturn\u001b[0m \u001b[0mwrapped\u001b[0m\u001b[1;33m\u001b[0m\u001b[1;33m\u001b[0m\u001b[0m\n\u001b[0;32m    125\u001b[0m     \u001b[1;32mreturn\u001b[0m \u001b[0mdecorator\u001b[0m\u001b[1;33m\u001b[0m\u001b[1;33m\u001b[0m\u001b[0m\n",
      "\u001b[1;31mRuntimeError\u001b[0m: torchaudio.sox_effects.sox_effects.apply_effects_tensor requires sox"
     ]
    }
   ],
   "source": [
    "#Load the data\n",
    "waveform1, sample_rate1 = torchaudio.load(SAMPLE_WAV)\n",
    "\n",
    "#Define effects 리스트의 형태로 줘야함.\n",
    "effects = [\n",
    "    [\"lowpass\",\"-1\",\"300\"], #apply single-pole lowpass filter\n",
    "    [\"speed\",\"0.8\"], # reduce the speed\n",
    "    # This only changes sample rate, so it is necessary to\n",
    "    # add \"rate\" effect with orginal sample rate after this.\n",
    "    [\"rate\", f\"{sample_rate1}\"],\n",
    "    [\"reverb\",\"-w\"], #Reverbration gives some dramatic feeling\n",
    "]\n",
    "\n",
    "# Apply effects\n",
    "waveform2, sample_rate2 = torchaudio.sox_effects.apply_effects_tensor(waveform1, sample_rate1,effects)\n",
    "\n",
    "\n",
    "print(waveform1.shape, sample_rate1)\n",
    "print(wavefrom2.shape, sample_rate2)"
   ]
  },
  {
   "cell_type": "code",
   "execution_count": 4,
   "id": "8f8ac3ae",
   "metadata": {},
   "outputs": [],
   "source": [
    "import sox"
   ]
  },
  {
   "cell_type": "code",
   "execution_count": 5,
   "id": "f0baa2b3",
   "metadata": {},
   "outputs": [
    {
     "ename": "AttributeError",
     "evalue": "module 'sox' has no attribute '__module__'",
     "output_type": "error",
     "traceback": [
      "\u001b[1;31m---------------------------------------------------------------------------\u001b[0m",
      "\u001b[1;31mAttributeError\u001b[0m                            Traceback (most recent call last)",
      "\u001b[1;32m<ipython-input-5-fe1ea737d1bc>\u001b[0m in \u001b[0;36m<module>\u001b[1;34m\u001b[0m\n\u001b[1;32m----> 1\u001b[1;33m \u001b[0msox\u001b[0m\u001b[1;33m.\u001b[0m\u001b[0m__module__\u001b[0m\u001b[1;33m\u001b[0m\u001b[1;33m\u001b[0m\u001b[0m\n\u001b[0m",
      "\u001b[1;31mAttributeError\u001b[0m: module 'sox' has no attribute '__module__'"
     ]
    }
   ],
   "source": [
    "sox.__module__"
   ]
  },
  {
   "cell_type": "code",
   "execution_count": null,
   "id": "9c357279",
   "metadata": {},
   "outputs": [],
   "source": []
  }
 ],
 "metadata": {
  "kernelspec": {
   "display_name": "Python 3",
   "language": "python",
   "name": "python3"
  },
  "language_info": {
   "codemirror_mode": {
    "name": "ipython",
    "version": 3
   },
   "file_extension": ".py",
   "mimetype": "text/x-python",
   "name": "python",
   "nbconvert_exporter": "python",
   "pygments_lexer": "ipython3",
   "version": "3.6.13"
  }
 },
 "nbformat": 4,
 "nbformat_minor": 5
}
